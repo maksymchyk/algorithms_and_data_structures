{
 "cells": [
  {
   "cell_type": "markdown",
   "metadata": {},
   "source": [
    "# Coding Problems\n",
    "\n",
    "## Objective\n",
    "\n",
    "This assignment aims to demonstrate how to study a data structures or algorithms question in depth to prepare for an industry coding interview. Leetcode is a popular coding practice site that many use to practice for technical interviews. Like behavioral interviews, it's important to practice and keep your skills sharp.\n",
    "\n",
    "## Group Size\n",
    "\n",
    "Please complete this individually.\n",
    "\n",
    "## Part 1:\n",
    "\n",
    "_*You will be assigned one of three problems based of your first name. Execute the code below, and that will tell you your assigned problem. Include the output as part of your submission (do not clear the output). The problems are based-off problems from Leetcode.*_\n"
   ]
  },
  {
   "cell_type": "code",
   "execution_count": 1,
   "metadata": {},
   "outputs": [
    {
     "name": "stdout",
     "output_type": "stream",
     "text": [
      "2\n"
     ]
    }
   ],
   "source": [
    "print((hash('Maksym') % 3) + 1)"
   ]
  },
  {
   "cell_type": "markdown",
   "metadata": {},
   "source": [
    "<details>\n",
    "  <summary>Question 1</summary>\n",
    "\n",
    "  # Question One: Check Duplicates in Tree\n",
    "\n",
    "  Given the `root` of a binary tree, check whether it is contains a duplicate value. If a duplicate exists, return the duplicate value. If there are multiple duplicates, return the one with the closest distance to the root. If no duplicate exists, return -1.\n",
    "\n",
    "  ## Examples\n",
    "\n",
    "  ### Example 1\n",
    "\n",
    "  ![](./images/q1_ex1.png)\n",
    "\n",
    "  Input: `root = [1, 2, 2, 3, 5, 6, 7]` *What traversal method is this?*\n",
    "\n",
    "  Output: 2\n",
    "\n",
    "  ### Example 2\n",
    "\n",
    "  ![](./images/q1_ex2.png)\n",
    "\n",
    "  Input: `root = [1, 10, 2, 3, 10, 12, 12]`\n",
    "\n",
    "  Output: 10\n",
    "\n",
    "  ### Example 3\n",
    "\n",
    "  ![](./images/q1_ex3.png)\n",
    "\n",
    "  Input: `root = [10, 9, 8, 7]`\n",
    "\n",
    "  Output: -1\n",
    "\n",
    "</details>\n",
    "\n",
    "#### Starter Code for Question 1"
   ]
  },
  {
   "cell_type": "code",
   "execution_count": null,
   "metadata": {},
   "outputs": [],
   "source": [
    "# Definition for a binary tree node.\n",
    "# class TreeNode(object):\n",
    "#     def __init__(self, val = 0, left = None, right = None):\n",
    "#         self.val = val\n",
    "#         self.left = left\n",
    "#         self.right = right\n",
    "def is_duplicate(root: TreeNode) -> int:\n",
    "  # TODO"
   ]
  },
  {
   "cell_type": "markdown",
   "metadata": {},
   "source": [
    "<details>\n",
    "  <summary>Question 2</summary>\n",
    "\n",
    "  # Question Two: Path to Leaves\n",
    "\n",
    "  Given the `root` of a binary tree, return all root to leaf paths in any order.\n",
    "\n",
    "  ## Examples\n",
    "\n",
    "  ### Example 1\n",
    "\n",
    "  ![](./images/q1_ex1.png)\n",
    "\n",
    "  Input: `root = [1, 2, 2, 3, 5, 6, 7]` *What traversal method is this?*\n",
    "\n",
    "  Output: [[1, 2, 3], [1, 2, 5], [1, 2, 6], [1, 2, 7]]\n",
    "\n",
    "  ### Example 2\n",
    "\n",
    "  ![](./images/q1_ex3.png)\n",
    "\n",
    "  Input: `root = [10, 9, 7, 8]`\n",
    "\n",
    "  Output: [[10, 7], [10, 9, 8]]\n",
    "\n",
    "</details>\n",
    "\n",
    "#### Starter Code for Question 2"
   ]
  },
  {
   "cell_type": "code",
   "execution_count": 21,
   "metadata": {},
   "outputs": [],
   "source": [
    "from typing import List, Optional  # Place imports at the top\n",
    "\n",
    "# Definition for a binary tree node\n",
    "class TreeNode:\n",
    "    def __init__(self, val=0, left=None, right=None):\n",
    "        self.val = val\n",
    "        self.left = left\n",
    "        self.right = right\n",
    "\n",
    "def bt_path(root: Optional[TreeNode]) -> List[List[int]]:\n",
    "    def dfs(node: Optional[TreeNode], path: List[int], result: List[List[int]]):\n",
    "        if not node:\n",
    "            return\n",
    "        # Add the current node value to the path\n",
    "        path.append(node.val)\n",
    "        # If it's a leaf node, add the path to the result\n",
    "        if not node.left and not node.right:\n",
    "            result.append(list(path))  # Copy the path list\n",
    "        else:\n",
    "            # Recurse on the left and right children\n",
    "            dfs(node.left, path, result)\n",
    "            dfs(node.right, path, result)\n",
    "        # Backtrack to explore other paths\n",
    "        path.pop()\n",
    "\n",
    "    result = []\n",
    "    dfs(root, [], result)\n",
    "    return result\n",
    "    "
   ]
  },
  {
   "cell_type": "markdown",
   "metadata": {},
   "source": [
    "<details>\n",
    "  <summary>Question 3</summary>\n",
    "\n",
    "  # Question Three: Missing Number in Range\n",
    " \n",
    "  You are given a list containing `n` integers in the range `[0, n]`. Return a list of numbers that are missing from the range `[0, n]` of the array. If there is no missing number, return -1. Note, all the integers in the list may not be unique.\n",
    "  \n",
    "  ## Examples\n",
    "\n",
    "  ### Example 1\n",
    "\n",
    "  Input: `lst = [0, 2]`\n",
    "\n",
    "  Output: [1]\n",
    "\n",
    "  ### Example 2\n",
    "\n",
    "  Input: `lst = [5, 0, 1]`\n",
    "\n",
    "  Output: [2, 3, 4]\n",
    "\n",
    "  ### Example 3\n",
    "\n",
    "  Input: `lst = [6, 8, 2, 3, 5, 7, 0, 1, 10]`\n",
    "\n",
    "  Output: [4, 9]\n",
    "\n",
    "</details>\n",
    "\n",
    "#### Starter Code for Question 3\n"
   ]
  },
  {
   "cell_type": "code",
   "execution_count": null,
   "metadata": {},
   "outputs": [],
   "source": [
    "def missing_num(nums: List) -> int:\n",
    "  # TODO"
   ]
  },
  {
   "cell_type": "markdown",
   "metadata": {},
   "source": [
    "\n",
    "## Part 2:\n",
    "\n",
    "-   Paraphrase the problem in your own words\n"
   ]
  },
  {
   "cell_type": "markdown",
   "metadata": {},
   "source": [
    "The problem requires finding all possible paths from the root to the leaf nodes of a binary tree. Paths are defined by list of nodes in each tree, with root node number first, and ending node number last. In other words, it means gathering, or traversing, all paths between end nodes and root."
   ]
  },
  {
   "cell_type": "markdown",
   "metadata": {},
   "source": [
    "- In this .ipynb file, there are examples that illustrate how the code should work (the examples provided above). Create 2 new examples for the question you have been assigned, that demonstrate you understand the problem. For question 1 and 2, you don't need to create the tree demonstration, just the input and output.\n"
   ]
  },
  {
   "cell_type": "code",
   "execution_count": 25,
   "metadata": {},
   "outputs": [
    {
     "name": "stdout",
     "output_type": "stream",
     "text": [
      "Example 3 Output: [[5, 4, 11, 7], [5, 4, 11, 2], [5, 8, 13], [5, 8, 4, 5], [5, 8, 4, 1]]\n",
      "Example 4 Output: [[6, 3, 1], [6, 3, 5, 4], [6, 3, 5, 7], [6, 9, 12, 10], [6, 9, 12, 15]]\n"
     ]
    }
   ],
   "source": [
    "\n",
    "# Example 3\n",
    "root3 = TreeNode(5)\n",
    "root3.left = TreeNode(4)\n",
    "root3.right = TreeNode(8)\n",
    "root3.left.left = TreeNode(11)\n",
    "root3.left.left.left = TreeNode(7)\n",
    "root3.left.left.right = TreeNode(2)\n",
    "root3.right.left = TreeNode(13)\n",
    "root3.right.right = TreeNode(4)\n",
    "root3.right.right.left = TreeNode(5)\n",
    "root3.right.right.right = TreeNode(1)\n",
    "\n",
    "print(\"Example 3 Output:\", bt_path(root3))\n",
    "# Example 4\n",
    "root4 = TreeNode(6)\n",
    "root4.left = TreeNode(3)\n",
    "root4.right = TreeNode(9)\n",
    "root4.left.left = TreeNode(1)\n",
    "root4.left.right = TreeNode(5)\n",
    "root4.right.right = TreeNode(12)\n",
    "root4.left.right.left = TreeNode(4)\n",
    "root4.left.right.right = TreeNode(7)\n",
    "root4.right.right.left = TreeNode(10)\n",
    "root4.right.right.right = TreeNode(15)\n",
    "\n",
    "print(\"Example 4 Output:\", bt_path(root4))"
   ]
  },
  {
   "cell_type": "markdown",
   "metadata": {},
   "source": [
    "\n",
    "-   Code the solution to your assigned problem in Python (code chunk). Try to find the best time and space complexity solution!\n"
   ]
  },
  {
   "cell_type": "markdown",
   "metadata": {},
   "source": [
    "Our Solution (DFS with Backtracking):\n",
    "Time Complexity:\n",
    "\n",
    "Time Complexity: O(N), where N is the number of nodes in the tree. This is because we visit each node once. At each node, we perform constant time operations (appending to the path and the result list).\n",
    "Space Complexity: O(H), where H is the height of the tree. This accounts for the maximum depth of the recursion stack (i.e., the DFS call stack) and the space used to store the paths in the result.\n",
    "\n",
    "\n",
    "Alternative Approaches:\n",
    "Breadth-First Search (BFS) with Queue:\n",
    "In this approach, we use a queue to traverse the tree level-by-level. We keep track of the current path in the queue as we go.\n",
    "Time Complexity (BFS):\n",
    "\n",
    "Time Complexity: O(N), where N is the number of nodes in the tree. Each node is processed once.\n",
    "Space Complexity: O(N), where N is the number of nodes. This is because, in the worst case, the queue could hold all the nodes at the bottom level (for a perfectly balanced tree, this would be the number of nodes at the bottom, which is roughly N/2).\n"
   ]
  },
  {
   "cell_type": "code",
   "execution_count": 27,
   "metadata": {},
   "outputs": [],
   "source": [
    "#DFS solution:\n",
    "\n",
    "# Definition for a binary tree node\n",
    "class TreeNode:\n",
    "    def __init__(self, val=0, left=None, right=None):\n",
    "        self.val = val\n",
    "        self.left = left\n",
    "        self.right = right\n",
    "\n",
    "def bt_path(root: Optional[TreeNode]) -> List[List[int]]:\n",
    "    def dfs(node: Optional[TreeNode], path: List[int], result: List[List[int]]):\n",
    "        if not node:\n",
    "            return\n",
    "        # Add the current node value to the path\n",
    "        path.append(node.val)\n",
    "        # If it's a leaf node, add the path to the result\n",
    "        if not node.left and not node.right:\n",
    "            result.append(list(path))  # Copy the path list\n",
    "        else:\n",
    "            # Recurse on the left and right children\n",
    "            dfs(node.left, path, result)\n",
    "            dfs(node.right, path, result)\n",
    "        # Backtrack to explore other paths\n",
    "        path.pop()\n",
    "\n",
    "    result = []\n",
    "    dfs(root, [], result)\n",
    "    return result\n",
    "    \n",
    "\n",
    "    \n",
    "#BFS solution:\n",
    " \n",
    "from collections import deque\n",
    "\n",
    "def bt_path_bfs(root: TreeNode) -> List[List[int]]:\n",
    "    if not root:\n",
    "        return []\n",
    "    \n",
    "    result = []\n",
    "    queue = deque([(root, [root.val])])  # Queue holds tuples of (node, path)\n",
    "    \n",
    "    while queue:\n",
    "        node, path = queue.popleft()\n",
    "        \n",
    "        # If it's a leaf node, add the path to the result\n",
    "        if not node.left and not node.right:\n",
    "            result.append(path)\n",
    "        \n",
    "        # If the node has a left child, add it to the queue with the updated path\n",
    "        if node.left:\n",
    "            queue.append((node.left, path + [node.left.val]))\n",
    "        \n",
    "        # If the node has a right child, add it to the queue with the updated path\n",
    "        if node.right:\n",
    "            queue.append((node.right, path + [node.right.val]))\n",
    "    \n",
    "    return result"
   ]
  },
  {
   "cell_type": "markdown",
   "metadata": {},
   "source": [
    "\n",
    "-   Explain why your solution works\n"
   ]
  },
  {
   "cell_type": "markdown",
   "metadata": {},
   "source": [
    "DFS (Recursive): This is the most straightforward solution and works efficiently for both balanced and skewed trees, with a manageable recursion depth. Space complexity is O(H), which is good for balanced trees.\n",
    "BFS: BFS can be beneficial when you need to traverse the tree level by level, but it may require more space (O(N)) in the case of a broad tree (many nodes at the bottom level).\n",
    "DFS (Iterative with Stack): This solution can be preferred over recursion if you want to avoid hitting recursion limits, especially in deep trees. Its space complexity is similar to the recursive DFS approach.\n",
    "\n",
    "\n",
    "DFS (Recursive) is the most commonly used and efficient approach, as it works well in practice and is easy to implement.\n",
    "BFS and Iterative DFS with a Stack are alternatives that could be used depending on the specific requirements of the tree structure or to avoid recursion limits.\n",
    "In terms of time complexity, all three methods are equivalent (O(N)), but the choice of method largely depends on the specific problem constraints, such as recursion depth or the structure of the tree.\n",
    "\n",
    "The Depth-First Search (DFS) solution works for this problem because it explores each path from the root to the leaves in a deep manner, following the tree structure until it reaches a leaf node and then backtracking to explore other paths. DFS explores a tree by going as deep as possible down one branch (following a path from the root) before it backtracks and explores the other branches. This process aligns perfectly with the task of finding all root-to-leaf paths.\n",
    "As DFS explores each node, it accumulates the node's value in a path list. When a leaf node is reached (a node with no left or right children), the path leading to that node is fully formed and can be added to the result list. DFS uses recursion, which allows the function to \"remember\" its state as it dives deeper into the tree. Each recursive call takes care of one level of the tree, and the state (the path up to that point) is naturally passed along to the next level. The recursive call stack implicitly handles backtracking—when DFS reaches a leaf, it naturally pops back up to the previous level and continues the exploration. This makes the DFS approach a natural fit for problems that require backtracking (like this one).\n"
   ]
  },
  {
   "cell_type": "markdown",
   "metadata": {},
   "source": [
    "\n",
    "-   Explain the problem’s time and space complexity\n"
   ]
  },
  {
   "cell_type": "markdown",
   "metadata": {},
   "source": [
    "Comparing Time and Space Complexity:\n",
    "\n",
    "Time Complexity:\n",
    "\n",
    "DFS (Recursive): O(N), as we visit each node once.\n",
    "BFS (Queue-based): O(N), as we process each node once.\n",
    "DFS (Iterative with Stack): O(N), as we visit each node once.\n",
    "In all three methods, time complexity is O(N) because we need to visit every node to find the root-to-leaf paths. No method has an inherent advantage over the others in terms of time complexity.\n",
    "\n",
    "Space Complexity:\n",
    "\n",
    "DFS (Recursive): O(H), where H is the height of the tree (depth of recursion stack). In the worst case, for a skewed tree, H could be O(N), but for a balanced tree, H would be O(log N).\n",
    "BFS (Queue-based): O(N), because the queue might hold all nodes at the last level (in the worst case).\n",
    "DFS (Iterative with Stack): O(H), where H is the height of the tree, similar to recursive DFS. Again, in the worst case, it could be O(N) for a skewed tree, but in a balanced tree, it would be O(log N).\n",
    "\n",
    "\n"
   ]
  },
  {
   "cell_type": "markdown",
   "metadata": {},
   "source": [
    "\n",
    "-   Explain the thinking to an alternative solution (no coding required, but a classmate reading this should be able to code it up based off your text)\n"
   ]
  },
  {
   "cell_type": "markdown",
   "metadata": {},
   "source": [
    "Problem Understanding:\n",
    "You are given the root of a binary tree, and the goal is to find all paths from the root to any leaf node (i.e., nodes with no children).\n",
    "Each path should be represented as a list of node values, starting from the root to the leaf.\n",
    "\n",
    "Approach Choice:\n",
    "Breadth-First Search (BFS) is an alternative method to solve this problem. BFS is typically used for level-wise traversal of a tree, which can be particularly useful when you want to explore all possible paths from the root to the leaf nodes.\n",
    "\n",
    "Algorithm Overview:\n",
    "Start from the root: Begin by enqueueing the root node and initializing an empty list to store the paths.\n",
    "Use a queue: Instead of recursion or maintaining a call stack, we will use a queue (FIFO) to keep track of nodes to explore. Each element in the queue will be a tuple containing a node and the current path taken to reach that node.\n",
    "\n",
    "Process each node:\n",
    "For each node, append its value to the current path.\n",
    "If it is a leaf node (no left or right children), add the current path to the result list.\n",
    "If the node has a left or right child, enqueue these children along with the updated path that includes the child’s value.\n",
    "Terminate when the queue is empty: The BFS will continue until all possible root-to-leaf paths are explored.\n",
    "\n",
    "Space Considerations:\n",
    "The queue will hold nodes and their respective paths. In the worst case, the queue may hold all the nodes at the last level of the tree. For a perfectly balanced tree, this would be about half of the total nodes in the tree (which could be O(N) in a very wide tree).\n",
    "This approach avoids recursion, so you don't have to worry about stack overflow with very deep trees, which can be a concern with DFS in extremely unbalanced trees.\n",
    "\n",
    "Steps in BFS:\n",
    "Initialize: Start by initializing the queue with the root node and an empty path.\n",
    "Loop through the queue: While the queue is not empty:\n",
    "\n",
    "Dequeue the first node.\n",
    "If it's a leaf node, add the current path to the result.\n",
    "Otherwise, enqueue the node's children, with the updated path.\n",
    "Return the result: Once the queue is empty, return the list of all root-to-leaf paths.\n",
    "\n",
    "Time and Space Complexity:\n",
    "Time Complexity: O(N), where N is the number of nodes in the tree. Each node is visited exactly once, and each node’s value is added to a path at most once.\n",
    "Space Complexity: O(N), as the queue may need to store all the nodes in the tree at once (in the case of a wide tree), and each path will be stored in the result list."
   ]
  },
  {
   "cell_type": "markdown",
   "metadata": {},
   "source": [
    "## Evaluation Criteria\n",
    "\n",
    "-   Problem is accurately stated\n",
    "\n",
    "-   Two examples are correct and easily understandable\n",
    "\n",
    "-   Correctness, time, and space complexity of the coding solution\n",
    "\n",
    "-   Clarity in explaining why the solution works, its time and space complexity\n",
    "\n",
    "-   Clarity in the proposal to the alternative solution"
   ]
  },
  {
   "cell_type": "markdown",
   "metadata": {},
   "source": [
    "## Submission Information\n",
    "\n",
    "🚨 **Please review our [Assignment Submission Guide](https://github.com/UofT-DSI/onboarding/blob/main/onboarding_documents/submissions.md)** 🚨 for detailed instructions on how to format, branch, and submit your work. Following these guidelines is crucial for your submissions to be evaluated correctly.\n",
    "\n",
    "### Submission Parameters:\n",
    "* Submission Due Date: `HH:MM AM/PM - DD/MM/YYYY`\n",
    "* The branch name for your repo should be: `assignment-1`\n",
    "* What to submit for this assignment:\n",
    "    * This Jupyter Notebook (assignment_1.ipynb) should be populated and should be the only change in your pull request.\n",
    "* What the pull request link should look like for this assignment: `https://github.com/<your_github_username>/algorithms_and_data_structures/pull/<pr_id>`\n",
    "    * Open a private window in your browser. Copy and paste the link to your pull request into the address bar. Make sure you can see your pull request properly. This helps the technical facilitator and learning support staff review your submission easily.\n",
    "\n",
    "Checklist:\n",
    "- [ ] Create a branch called `assignment-1`.\n",
    "- [ ] Ensure that the repository is public.\n",
    "- [ ] Review [the PR description guidelines](https://github.com/UofT-DSI/onboarding/blob/main/onboarding_documents/submissions.md#guidelines-for-pull-request-descriptions) and adhere to them.\n",
    "- [ ] Verify that the link is accessible in a private browser window.\n",
    "\n",
    "If you encounter any difficulties or have questions, please don't hesitate to reach out to our team via our Slack at `#cohort-3-help`. Our Technical Facilitators and Learning Support staff are here to help you navigate any challenges."
   ]
  }
 ],
 "metadata": {
  "kernelspec": {
   "display_name": "dsi_participant",
   "language": "python",
   "name": "python3"
  },
  "language_info": {
   "codemirror_mode": {
    "name": "ipython",
    "version": 3
   },
   "file_extension": ".py",
   "mimetype": "text/x-python",
   "name": "python",
   "nbconvert_exporter": "python",
   "pygments_lexer": "ipython3",
   "version": "3.9.19"
  }
 },
 "nbformat": 4,
 "nbformat_minor": 2
}
