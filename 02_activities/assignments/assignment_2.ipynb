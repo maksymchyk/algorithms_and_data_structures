{
 "cells": [
  {
   "cell_type": "markdown",
   "metadata": {},
   "source": [
    "# Practice Interview\n",
    "\n",
    "## Objective\n",
    "\n",
    "_*The partner assignment aims to provide participants with the opportunity to practice coding in an interview context. You will analyze your partner's Assignment 1. Moreover, code reviews are common practice in a software development team. This assignment should give you a taste of the code review process.*_\n",
    "\n",
    "## Group Size\n",
    "\n",
    "Each group should have 2 people. You will be assigned a partner\n",
    "\n",
    "## Part 1:\n",
    "\n",
    "You and your partner must share each other's Assignment 1 submission."
   ]
  },
  {
   "cell_type": "markdown",
   "metadata": {},
   "source": [
    "\n",
    "## Part 2:\n",
    "\n",
    "Create a Jupyter Notebook, create 6 of the following headings, and complete the following for your partner's assignment 1:\n",
    "\n",
    "-   Paraphrase the problem in your own words.\n"
   ]
  },
  {
   "cell_type": "markdown",
   "metadata": {},
   "source": [
    "The problem from question 3 involves finding missing numbers from a given range [0, n] in an array of integers. The highest number in the range is going to be n, and the first number will be 0. The array may have duplicate elements. The task is to return a list of all missing numbers from the range. If there are no missing numbers, or the range is empty, return -1."
   ]
  },
  {
   "cell_type": "markdown",
   "metadata": {},
   "source": [
    "\n",
    "-   Create 1 new example that demonstrates you understand the problem. Trace/walkthrough 1 example that your partner made and explain it.\n"
   ]
  },
  {
   "cell_type": "code",
   "execution_count": null,
   "metadata": {},
   "outputs": [
    {
     "name": "stdout",
     "output_type": "stream",
     "text": [
      "[1, 2, 4]\n"
     ]
    }
   ],
   "source": [
    "# Example 6\n",
    "#lst6 = [10, 11, 12, 14, 15]\n",
    "#print(missing_num(lst6))  # Output: [0, 1, 2, 3, 4, 5, 6, 7, 8, 9, 13]\n",
    "\n",
    "#In this example, the list is missing first 10 integers and the number 13.\n",
    "\n",
    "# My Example:\n",
    "lst7 = [0, 0, 3, 5]\n",
    "#In my example, the list contains 0 value two times, and n=5\n",
    "\n",
    "print(missing_num(lst7)) \n",
    "\n",
    "#Missing values = [1,2,4]"
   ]
  },
  {
   "cell_type": "markdown",
   "metadata": {},
   "source": [
    "\n",
    "-   Copy the solution your partner wrote. \n"
   ]
  },
  {
   "cell_type": "code",
   "execution_count": 6,
   "metadata": {},
   "outputs": [],
   "source": [
    "from typing import List\n",
    "\n",
    "def missing_num(nums: List[int]) -> List[int]:\n",
    "    \n",
    "    # Step 1: Handle empty input edge case - addresses the special case where the input list itself is empty\n",
    "    if not nums: \n",
    "        return -1\n",
    "    \n",
    "    # Step 2: Determine the range\n",
    "    ## Step 2.1: Find the maximum number in the input list\n",
    "    max_value = max(nums)\n",
    "\n",
    "    # Step 2.2: Create a set of all numbers from 0 to max_value \n",
    "    complete_set = set(range(max_value + 1))\n",
    "\n",
    "    # Step 3: Create a set of the numbers in the input list (eliminates duplicates)\n",
    "    nums_set = set(nums)\n",
    "\n",
    "    # Step 4: Find the difference between the two sets to get the missing numbers\n",
    "    missing_numbers = list(complete_set - nums_set)\n",
    "\n",
    "    # Step 5: Sort the missing numbers in ascending order\n",
    "    missing_numbers.sort()\n",
    "\n",
    "    # Step 6: Return the result - handles cases where missing_value is empty b/c the input already contains all the numbers in the range [0, max(nums)]\n",
    "    return missing_numbers if missing_numbers else -1\n"
   ]
  },
  {
   "cell_type": "markdown",
   "metadata": {},
   "source": [
    "\n",
    "-   Explain why their solution works in your own words.\n"
   ]
  },
  {
   "cell_type": "markdown",
   "metadata": {},
   "source": [
    "Their solution addresses edge cases of empty range and no values missing. The code logic reflects and addresses the task. He first limits the range between 0 and the max number in the range. The he uses boolean array to track missing values. The seen array corresponds to range [0, n], and False results represent missing numbers. Duplicates will are addressed properly since each number is only marked once."
   ]
  },
  {
   "cell_type": "markdown",
   "metadata": {},
   "source": [
    "\n",
    "-   Explain the problem’s time and space complexity in your own words.\n"
   ]
  },
  {
   "cell_type": "markdown",
   "metadata": {},
   "source": [
    "I.Time Complexity\n",
    "\n",
    "1. Finding the maximum value (max(nums)):\n",
    "This requires scanning through the input list once, which is O(k), where k is the number of elements in the input list.\n",
    "\n",
    "2. Creating the range (set(range(max_value + 1))):\n",
    "Constructing a range of size n+1 (where n is max(nums)) takes O(n).\n",
    "\n",
    "3. Creating the set from the input list (set(nums)):\n",
    "Converting the input list into a set also requires O(k), as each element is processed once.\n",
    "4. Set subtraction (complete_set - nums_set):\n",
    "This operation depends on the size of the complete_set and is O(n).\n",
    "5. Sorting the missing numbers (missing_numbers.sort()):\n",
    "Sorting the missing numbers, which could be at most n+1 in size, takes O(mlogm), where m is the size of the missing numbers list. In the worst case, m=n+1.\n",
    "\n",
    "Overall Time Complexity:\n",
    "\n",
    "O(k+n+mlogm), where:\n",
    "k = the size of the input list.\n",
    "n = max(nums).\n",
    "m = number of missing numbers (at most n+1).\n",
    "\n",
    "In the worst case, the sorting term mlog(m)  could dominate, but typically O(k+n) is sufficient to describe the complexity.\n",
    "\n",
    "II. Space Complexity\n",
    "\n",
    "1. Complete Range Set (complete_set):\n",
    "Contains n+1 numbers, requiring O(n) space.\n",
    "\n",
    "2. Input Set (nums_set):\n",
    "Contains up to k unique numbers, requiring O(k) space.\n",
    "\n",
    "3. Result List (missing_numbers):\n",
    "Stores up to n+1 numbers in the worst case, requiring O(n) space.\n",
    "\n",
    "Total Space Complexity:\n",
    "\n",
    "The dominant terms are O(n) for the complete_set and O(k) for the nums_set, resulting in O(k+n)."
   ]
  },
  {
   "cell_type": "markdown",
   "metadata": {},
   "source": [
    "Partner considered and implemented a boolean array approach after reviewing space and time complexity, which provided a better result."
   ]
  },
  {
   "cell_type": "markdown",
   "metadata": {},
   "source": [
    "\n",
    "-   Critique your partner's solution, including explanation, and if there is anything that should be adjusted.\n"
   ]
  },
  {
   "cell_type": "markdown",
   "metadata": {},
   "source": [
    "In general, using a boolean array is the correct approach in this case. My partner determined the right approach after reviewing time and space complexities. There are very little things to improve.\n",
    "\n",
    "\n",
    "Let's analyze and critique the provided solution and suggest improvements:\n",
    "\n",
    "Strengths of the Solution:\n",
    "\n",
    "Handling Edge Case:\n",
    "The solution correctly handles the edge case where the input list is empty by returning -1. This is a good practice to ensure the code does not break when no numbers are provided.\n",
    "\n",
    "Using a Boolean Array for Tracking:\n",
    "The use of a boolean array seen to track the presence of numbers is an efficient way to mark which numbers are already present. This avoids the need for multiple iterations or complex data structures.\n",
    "\n",
    "The solution is well-structured with clear, logical steps.\n",
    "\n",
    "Areas for Improvement:\n",
    "\n",
    "Space Complexity of the Boolean Array:\n",
    "The space complexity of the solution is O(n), where n is the largest number in the input list (max_value). This could be inefficient when the range of numbers is large, especially if the list contains only a few numbers. Instead of using a boolean array that might consume a lot of space, we can look into more space-efficient methods like in-place marking or using a set. But that apporach has its own downsides, as we figured in code example above.\n",
    "\n",
    "Time Complexity:\n",
    "Finding the maximum value in the list takes O(k) time, where k is the size of the input list. This is fine for small inputs, but for very large ranges, we can minimize extra steps.\n",
    "\n",
    "Boolean Array Iteration:\n",
    "The iteration to check for missing numbers in the boolean array takes O(n) time, where n is the maximum value. This adds overhead when the list contains only a small number of elements.\n",
    "Unnecessary Range of Numbers:\n",
    "The use of max_value + 1 in both the boolean array and the iteration step may be redundant if the numbers are sparse or range over a much smaller set than the largest number.\n",
    "Improved Version: In-Place Marking with List\n",
    "We can improve the space complexity by using an in-place marking approach, which avoids the need for an extra boolean array and reduces the space complexity to O(1), aside from the input list. This approach is particularly useful when the range of numbers is large.\n",
    "\n",
    "Optimized Code:\n"
   ]
  },
  {
   "cell_type": "code",
   "execution_count": null,
   "metadata": {},
   "outputs": [],
   "source": [
    "from typing import List\n",
    "\n",
    "def missing_num(nums: List[int]) -> List[int]:\n",
    "    n = len(nums)\n",
    "    \n",
    "    # Step 1: In-place mark the numbers in the range [0, n-1]\n",
    "    for i in range(n):\n",
    "        while 0 <= nums[i] < n and nums[nums[i]] != nums[i]:\n",
    "            # Swap the elements to their correct positions\n",
    "            nums[nums[i]], nums[i] = nums[i], nums[nums[i]]\n",
    "    \n",
    "    # Step 2: Identify the missing numbers by checking the positions.\n",
    "    missing_numbers = []\n",
    "    for i in range(n):\n",
    "        if nums[i] != i:\n",
    "            missing_numbers.append(i)\n",
    "    \n",
    "    # Step 3: Return the result, or -1 if no numbers are missing\n",
    "    return missing_numbers if missing_numbers else -1\n",
    "\n"
   ]
  },
  {
   "cell_type": "markdown",
   "metadata": {},
   "source": [
    "Key Differences & Improvements:\n",
    "\n",
    "In-Place Swapping:\n",
    "Instead of using a boolean array, we use in-place swapping to position the numbers at their correct index. If nums[i] is within the range [0, n-1], we place it at its correct position nums[nums[i]]. This avoids extra memory allocation for a boolean array.\n",
    "This technique ensures that numbers are \"marked\" at their correct positions in the list itself.\n",
    "\n",
    "Space Complexity:\n",
    "The space complexity is reduced to O(1) (constant space) because we no longer require additional space for the seen array. The input list is modified in-place.\n",
    "\n",
    "Time Complexity:\n",
    "The time complexity remains O(n) because we perform the in-place swaps only once per number, and the final pass through the list takes linear time.\n",
    "\n",
    "Efficiency:\n",
    "By eliminating the boolean array and using in-place operations, the solution becomes more memory-efficient. This is especially beneficial when dealing with large datasets or ranges.\n",
    "\n",
    "Final Thoughts:\n",
    "The original solution was good but could be optimized in terms of space usage. The in-place marking approach reduces memory usage and still runs in linear time, making it a more efficient solution overall.\n",
    "The space complexity of O(1) is achieved by modifying the input list directly, which is particularly important for large datasets."
   ]
  },
  {
   "cell_type": "markdown",
   "metadata": {},
   "source": [
    "\n",
    "## Part 3:\n",
    "\n",
    "Please write a 200 word reflection documenting your process from assignment 1, and your presentation and review experience with your partner at the bottom of the Jupyter Notebook under a new heading \"Reflection.\" Again, export this Notebook as pdf.\n"
   ]
  },
  {
   "cell_type": "markdown",
   "metadata": {},
   "source": [
    "### Reflection"
   ]
  },
  {
   "cell_type": "markdown",
   "metadata": {},
   "source": [
    "The process of completing assignments 1 and 2 gave me valuable insights into problem-solving techniques and helped me develop a deeper understanding of algorithm design. Throughout these assignments, I practiced defining both time and space complexity for different solutions. This allowed me to analyze how well the solutions performed in terms of resource usage and identify opportunities for optimization. I paid close attention to reducing time and space complexities wherever possible, which is a crucial skill in real-world applications where performance is key.\n",
    "\n",
    "An important part of this process was collaborating with my partner. Reviewing each other's solutions helped me see problems from different perspectives, critique the efficiency of various methods, consider both the theoretical aspects and practical implications. This exchange of ideas and work reinforced my understanding of time and space complexity with different methods.\n",
    "\n",
    "In addition to the technical work, I realized how important it is to document my process thoroughly. Writing detailed explanations for each step in the solution not only helped me clarify my own thinking, but also made it easier for me to understand my partner's thought process. This experience highlighted the importance of clear comments in collaborative work."
   ]
  },
  {
   "cell_type": "markdown",
   "metadata": {},
   "source": [
    "\n",
    "## Evaluation Criteria\n",
    "\n",
    "We are looking for the similar points as Assignment 1\n",
    "\n",
    "-   Problem is accurately stated\n",
    "\n",
    "-   New example is correct and easily understandable\n",
    "\n",
    "-   Correctness, time, and space complexity of the coding solution\n",
    "\n",
    "-   Clarity in explaining why the solution works, its time and space complexity\n",
    "\n",
    "-   Quality of critique of your partner's assignment, if necessary\n"
   ]
  },
  {
   "cell_type": "markdown",
   "metadata": {},
   "source": [
    "## Submission Information\n",
    "\n",
    "🚨 **Please review our [Assignment Submission Guide](https://github.com/UofT-DSI/onboarding/blob/main/onboarding_documents/submissions.md)** 🚨 for detailed instructions on how to format, branch, and submit your work. Following these guidelines is crucial for your submissions to be evaluated correctly.\n",
    "\n",
    "### Submission Parameters:\n",
    "* Submission Due Date: `HH:MM AM/PM - DD/MM/YYYY`\n",
    "* The branch name for your repo should be: `assignment-2`\n",
    "* What to submit for this assignment:\n",
    "    * This Jupyter Notebook (assignment_2.ipynb) should be populated and should be the only change in your pull request.\n",
    "* What the pull request link should look like for this assignment: `https://github.com/<your_github_username>/algorithms_and_data_structures/pull/<pr_id>`\n",
    "    * Open a private window in your browser. Copy and paste the link to your pull request into the address bar. Make sure you can see your pull request properly. This helps the technical facilitator and learning support staff review your submission easily.\n",
    "\n",
    "Checklist:\n",
    "- [ ] Created a branch with the correct naming convention.\n",
    "- [ ] Ensured that the repository is public.\n",
    "- [ ] Reviewed the PR description guidelines and adhered to them.\n",
    "- [ ] Verify that the link is accessible in a private browser window.\n",
    "\n",
    "If you encounter any difficulties or have questions, please don't hesitate to reach out to our team via our Slack at `#cohort-3-help`. Our Technical Facilitators and Learning Support staff are here to help you navigate any challenges.\n"
   ]
  }
 ],
 "metadata": {
  "kernelspec": {
   "display_name": "dsi_participant",
   "language": "python",
   "name": "python3"
  },
  "language_info": {
   "codemirror_mode": {
    "name": "ipython",
    "version": 3
   },
   "file_extension": ".py",
   "mimetype": "text/x-python",
   "name": "python",
   "nbconvert_exporter": "python",
   "pygments_lexer": "ipython3",
   "version": "3.9.19"
  }
 },
 "nbformat": 4,
 "nbformat_minor": 2
}
